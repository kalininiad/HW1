{
 "cells": [
  {
   "cell_type": "markdown",
   "metadata": {},
   "source": [
    "Версия моего питона: 3.6.4 |Anaconda, Inc.| (default, Jan 16 2018, 10:22:32) [MSC v.1900 64 bit (AMD64)]"
   ]
  },
  {
   "cell_type": "code",
   "execution_count": 47,
   "metadata": {},
   "outputs": [],
   "source": [
    "import pandas as pd ## Обновить pandas до последней версии\n",
    "import numpy as np\n",
    "import math\n",
    "import os\n",
    "import glob\n",
    "import mysql.connector\n",
    "import datetime\n",
    "from mysql.connector import errorcode\n",
    "from sklearn import preprocessing\n",
    "import warnings\n",
    "warnings.filterwarnings(\"ignore\")"
   ]
  },
  {
   "cell_type": "markdown",
   "metadata": {},
   "source": [
    "#### Укажите свой путь!  двойной знак \\ обязательный!"
   ]
  },
  {
   "cell_type": "code",
   "execution_count": 48,
   "metadata": {},
   "outputs": [],
   "source": [
    "path = 'C:\\\\Users\\\\Artem\\\\Documents\\\\Python\\\\IT\\\\Task_1'"
   ]
  },
  {
   "cell_type": "markdown",
   "metadata": {},
   "source": [
    "#### Важно, чтобы  не было других эксель файлов директории"
   ]
  },
  {
   "cell_type": "code",
   "execution_count": 49,
   "metadata": {},
   "outputs": [],
   "source": [
    "extension = 'xlsx'\n",
    "os.chdir(path)\n",
    "excel_files = [i for i in glob.glob('*.{}'.format(extension))]\n",
    "applications = excel_files [0:64]\n",
    "contracts = excel_files[64:]"
   ]
  },
  {
   "cell_type": "markdown",
   "metadata": {},
   "source": [
    "# Пункт 1 (Загрузка данных и передача в БД)"
   ]
  },
  {
   "cell_type": "markdown",
   "metadata": {},
   "source": [
    "### Таблица по заёмщикам"
   ]
  },
  {
   "cell_type": "code",
   "execution_count": 50,
   "metadata": {},
   "outputs": [],
   "source": [
    "def get_features_for_one_person(application):\n",
    "    column_names0 = []\n",
    "    column_names1 = []\n",
    "    for column in application:\n",
    "        for row in range(1, 8, 2):\n",
    "            column_names0.append(application[column][row])\n",
    "        for row in range(12, 20, 2):\n",
    "            column_names1.append(application[column][row])\n",
    "    column_names = column_names0 + column_names1\n",
    "    indicies_of_nan_values = []\n",
    "    counter = 0\n",
    "    for i in column_names:\n",
    "        try:\n",
    "            math.isnan(i)\n",
    "            indicies_of_nan_values.append(counter)\n",
    "            counter += 1\n",
    "        except:\n",
    "            counter += 1\n",
    "    column_names = [x for i, x in enumerate(column_names) if i not in indicies_of_nan_values]\n",
    "    values0 = []\n",
    "    values1 = []\n",
    "    for column in application:\n",
    "        for row in range(2, 10, 2):\n",
    "            values0.append(str(application[column][row])) ##str потому что, иначе рейзит ошибку с 3015ым годом в файле 11\n",
    "        for row in range(13, 20, 2):\n",
    "            try:\n",
    "                values1.append(application[column][row])\n",
    "            except:\n",
    "                values1.append(np.nan)\n",
    "    values = values0 + values1\n",
    "    for i in values:\n",
    "        try:\n",
    "            math.isnan(i)\n",
    "            indicies_of_nan_values.append(counter)\n",
    "            counter += 1\n",
    "        except:\n",
    "            counter += 1\n",
    "    values = [x for i, x in enumerate(values) if i not in indicies_of_nan_values]\n",
    "    table = pd.DataFrame(columns = (column_names))\n",
    "    table.loc[i] = values\n",
    "    table['application_date'] = str(application[11][0])\n",
    "    return table"
   ]
  },
  {
   "cell_type": "code",
   "execution_count": 51,
   "metadata": {},
   "outputs": [],
   "source": [
    "applications_table = pd.DataFrame()\n",
    "for i in applications:\n",
    "        df = pd.read_excel(i, header = None, \n",
    "                           usecols = [0, 3, 4, 5, 6, 7, 8, 9, 10, 11, 12, 14],  skiprows = 1, nrows = 22)\n",
    "        one_row = get_features_for_one_person(df)\n",
    "        applications_table = applications_table.append(one_row)"
   ]
  },
  {
   "cell_type": "code",
   "execution_count": 52,
   "metadata": {},
   "outputs": [],
   "source": [
    "#applications_table = applications_table.reset_index()\n",
    "#applications_table.drop(['index'], axis = 1)\n",
    "applications_table = applications_table.reset_index()"
   ]
  },
  {
   "cell_type": "code",
   "execution_count": 53,
   "metadata": {},
   "outputs": [
    {
     "data": {
      "text/plain": [
       "Index(['index', 'Name', 'Identity Number', 'Street Address', 'City',\n",
       "       'Issue Date', 'Mobile Number', 'Children', 'State', 'Home Number',\n",
       "       'Family', 'Date of Birth', 'Email Address', 'Marital Status',\n",
       "       'Zip Code', 'Gender', 'Employed By', 'Education', 'City',\n",
       "       'Business Phone', 'Business Email', 'State', 'Position',\n",
       "       'Date appointed', 'Income', 'Income Type', 'Housing',\n",
       "       'Age of Car (if owned)', 'House ownership', 'State',\n",
       "       'application_date'],\n",
       "      dtype='object')"
      ]
     },
     "execution_count": 53,
     "metadata": {},
     "output_type": "execute_result"
    }
   ],
   "source": [
    "applications_table.keys()"
   ]
  },
  {
   "cell_type": "code",
   "execution_count": 54,
   "metadata": {},
   "outputs": [],
   "source": [
    "applications_table = applications_table.drop(['State', 'City', 'Name', 'Street Address', 'Mobile Number', \n",
    "                                              'Home Number', 'Email Address', 'Zip Code', 'Business Phone',\n",
    "                                             'Business Email', 'Date appointed'], axis = 1)"
   ]
  },
  {
   "cell_type": "code",
   "execution_count": 55,
   "metadata": {
    "scrolled": true
   },
   "outputs": [],
   "source": [
    "applications_table['Identity Number'] = pd.to_numeric(applications_table['Identity Number'])\n",
    "#applications_table['Children'] = pd.to_numeric(applications_table['Children'])\n",
    "#applications_table['Family'] = pd.to_numeric(applications_table['Family'])\n",
    "#applications_table['Income'] = pd.to_numeric(applications_table['Income'], downcast = 'integer')\n"
   ]
  },
  {
   "cell_type": "code",
   "execution_count": 56,
   "metadata": {},
   "outputs": [],
   "source": [
    "for i, value in enumerate(applications_table['Date of Birth']):\n",
    "    if len(applications_table['Date of Birth'][i]) < 11:\n",
    "        applications_table['Date of Birth'].loc[i] = datetime.date.strftime(datetime.datetime.strptime(value, '%m.%d.%Y'), \"%Y\")\n",
    "    else:\n",
    "        applications_table['Date of Birth'].loc[i] = datetime.date.strftime(datetime.datetime.strptime(value, '%Y-%d-%m %H:%M:%S'), \"%Y\")"
   ]
  },
  {
   "cell_type": "code",
   "execution_count": 57,
   "metadata": {},
   "outputs": [],
   "source": [
    "for i in range(0, len(applications_table['Date of Birth'])):\n",
    "    applications_table['Date of Birth'][i] = int(applications_table['Date of Birth'][i])\n",
    "applications_table['age'] = 2018 - applications_table['Date of Birth']"
   ]
  },
  {
   "cell_type": "code",
   "execution_count": 58,
   "metadata": {},
   "outputs": [],
   "source": [
    "for i, value in enumerate(applications_table['Issue Date']):\n",
    "    if len(applications_table['Issue Date'][i]) < 11:\n",
    "        applications_table['Issue Date'].loc[i] = datetime.date.strftime(datetime.datetime.strptime(value, '%m.%d.%Y'), \"%Y/%m/%d\")\n",
    "    else:\n",
    "        applications_table['Issue Date'].loc[i] = datetime.date.strftime(datetime.datetime.strptime(value, '%Y-%d-%m %H:%M:%S'), \"%Y/%m/%d\")"
   ]
  },
  {
   "cell_type": "code",
   "execution_count": 59,
   "metadata": {},
   "outputs": [],
   "source": [
    "for i, value in enumerate(applications_table['application_date']):\n",
    "    if len(applications_table['application_date'][i]) < 11:\n",
    "        applications_table['application_date'].loc[i] = datetime.date.strftime(datetime.datetime.strptime(value, '%m.%d.%Y'), \"%Y/%m/%d\")\n",
    "    else:\n",
    "        applications_table['application_date'].loc[i] = datetime.date.strftime(datetime.datetime.strptime(value, '%Y-%d-%m %H:%M:%S'), \"%Y/%m/%d\")"
   ]
  },
  {
   "cell_type": "code",
   "execution_count": 60,
   "metadata": {},
   "outputs": [],
   "source": [
    "applications_table = applications_table.replace(np.nan, 'NULL')\n",
    "applications_table = applications_table.replace('nan', 'NULL')\n",
    "#applications_table = applications_table.replace('NULL', np.nan)\n",
    "#applications_table = applications_table.astype(object).where(pd.notnull(applications_table), None)\n",
    "#applications_table"
   ]
  },
  {
   "cell_type": "code",
   "execution_count": 61,
   "metadata": {
    "scrolled": true
   },
   "outputs": [],
   "source": [
    "applications_table['Gender'] = applications_table['Gender'] == 'Female'"
   ]
  },
  {
   "cell_type": "code",
   "execution_count": 62,
   "metadata": {},
   "outputs": [
    {
     "data": {
      "text/html": [
       "<div>\n",
       "<style scoped>\n",
       "    .dataframe tbody tr th:only-of-type {\n",
       "        vertical-align: middle;\n",
       "    }\n",
       "\n",
       "    .dataframe tbody tr th {\n",
       "        vertical-align: top;\n",
       "    }\n",
       "\n",
       "    .dataframe thead th {\n",
       "        text-align: right;\n",
       "    }\n",
       "</style>\n",
       "<table border=\"1\" class=\"dataframe\">\n",
       "  <thead>\n",
       "    <tr style=\"text-align: right;\">\n",
       "      <th></th>\n",
       "      <th>index</th>\n",
       "      <th>Identity Number</th>\n",
       "      <th>Issue Date</th>\n",
       "      <th>Children</th>\n",
       "      <th>Family</th>\n",
       "      <th>Date of Birth</th>\n",
       "      <th>Marital Status</th>\n",
       "      <th>Gender</th>\n",
       "      <th>Employed By</th>\n",
       "      <th>Education</th>\n",
       "      <th>Position</th>\n",
       "      <th>Income</th>\n",
       "      <th>Income Type</th>\n",
       "      <th>Housing</th>\n",
       "      <th>Age of Car (if owned)</th>\n",
       "      <th>House ownership</th>\n",
       "      <th>application_date</th>\n",
       "      <th>age</th>\n",
       "    </tr>\n",
       "  </thead>\n",
       "  <tbody>\n",
       "    <tr>\n",
       "      <th>0</th>\n",
       "      <td>NULL</td>\n",
       "      <td>100003</td>\n",
       "      <td>2013/08/29</td>\n",
       "      <td>0</td>\n",
       "      <td>2</td>\n",
       "      <td>1968</td>\n",
       "      <td>Married</td>\n",
       "      <td>True</td>\n",
       "      <td>School</td>\n",
       "      <td>Higher education</td>\n",
       "      <td>Core staff</td>\n",
       "      <td>270000</td>\n",
       "      <td>State servant</td>\n",
       "      <td>House / apartment</td>\n",
       "      <td>NULL</td>\n",
       "      <td>N</td>\n",
       "      <td>2014/06/16</td>\n",
       "      <td>50</td>\n",
       "    </tr>\n",
       "    <tr>\n",
       "      <th>1</th>\n",
       "      <td>NULL</td>\n",
       "      <td>100004</td>\n",
       "      <td>2010/01/28</td>\n",
       "      <td>0</td>\n",
       "      <td>1</td>\n",
       "      <td>1964</td>\n",
       "      <td>Single / not married</td>\n",
       "      <td>False</td>\n",
       "      <td>Government</td>\n",
       "      <td>Secondary / secondary special</td>\n",
       "      <td>Laborers</td>\n",
       "      <td>67500</td>\n",
       "      <td>Working</td>\n",
       "      <td>House / apartment</td>\n",
       "      <td>26</td>\n",
       "      <td>Y</td>\n",
       "      <td>2017/01/02</td>\n",
       "      <td>54</td>\n",
       "    </tr>\n",
       "    <tr>\n",
       "      <th>2</th>\n",
       "      <td>NULL</td>\n",
       "      <td>100006</td>\n",
       "      <td>2010/01/08</td>\n",
       "      <td>0</td>\n",
       "      <td>2</td>\n",
       "      <td>1964</td>\n",
       "      <td>Civil marriage</td>\n",
       "      <td>True</td>\n",
       "      <td>Business Entity Type 3</td>\n",
       "      <td>Secondary / secondary special</td>\n",
       "      <td>Laborers</td>\n",
       "      <td>135000</td>\n",
       "      <td>Working</td>\n",
       "      <td>House / apartment</td>\n",
       "      <td>NULL</td>\n",
       "      <td>Y</td>\n",
       "      <td>2016/09/10</td>\n",
       "      <td>54</td>\n",
       "    </tr>\n",
       "    <tr>\n",
       "      <th>3</th>\n",
       "      <td>NULL</td>\n",
       "      <td>100007</td>\n",
       "      <td>2008/03/18</td>\n",
       "      <td>0</td>\n",
       "      <td>1</td>\n",
       "      <td>1963</td>\n",
       "      <td>Single / not married</td>\n",
       "      <td>False</td>\n",
       "      <td>Religion</td>\n",
       "      <td>Secondary / secondary special</td>\n",
       "      <td>Core staff</td>\n",
       "      <td>121500</td>\n",
       "      <td>Working</td>\n",
       "      <td>House / apartment</td>\n",
       "      <td>NULL</td>\n",
       "      <td>Y</td>\n",
       "      <td>2017/09/05</td>\n",
       "      <td>55</td>\n",
       "    </tr>\n",
       "    <tr>\n",
       "      <th>4</th>\n",
       "      <td>NULL</td>\n",
       "      <td>100008</td>\n",
       "      <td>2013/11/24</td>\n",
       "      <td>0</td>\n",
       "      <td>2</td>\n",
       "      <td>1968</td>\n",
       "      <td>Married</td>\n",
       "      <td>False</td>\n",
       "      <td>Other</td>\n",
       "      <td>Secondary / secondary special</td>\n",
       "      <td>Laborers</td>\n",
       "      <td>99000</td>\n",
       "      <td>State servant</td>\n",
       "      <td>House / apartment</td>\n",
       "      <td>NULL</td>\n",
       "      <td>Y</td>\n",
       "      <td>2015/03/16</td>\n",
       "      <td>50</td>\n",
       "    </tr>\n",
       "  </tbody>\n",
       "</table>\n",
       "</div>"
      ],
      "text/plain": [
       "  index  Identity Number  Issue Date Children Family  Date of Birth  \\\n",
       "0  NULL           100003  2013/08/29        0      2           1968   \n",
       "1  NULL           100004  2010/01/28        0      1           1964   \n",
       "2  NULL           100006  2010/01/08        0      2           1964   \n",
       "3  NULL           100007  2008/03/18        0      1           1963   \n",
       "4  NULL           100008  2013/11/24        0      2           1968   \n",
       "\n",
       "         Marital Status  Gender             Employed By  \\\n",
       "0               Married    True                  School   \n",
       "1  Single / not married   False              Government   \n",
       "2        Civil marriage    True  Business Entity Type 3   \n",
       "3  Single / not married   False                Religion   \n",
       "4               Married   False                   Other   \n",
       "\n",
       "                       Education    Position  Income    Income Type  \\\n",
       "0               Higher education  Core staff  270000  State servant   \n",
       "1  Secondary / secondary special    Laborers   67500        Working   \n",
       "2  Secondary / secondary special    Laborers  135000        Working   \n",
       "3  Secondary / secondary special  Core staff  121500        Working   \n",
       "4  Secondary / secondary special    Laborers   99000  State servant   \n",
       "\n",
       "             Housing Age of Car (if owned) House ownership application_date  \\\n",
       "0  House / apartment                  NULL               N       2014/06/16   \n",
       "1  House / apartment                    26               Y       2017/01/02   \n",
       "2  House / apartment                  NULL               Y       2016/09/10   \n",
       "3  House / apartment                  NULL               Y       2017/09/05   \n",
       "4  House / apartment                  NULL               Y       2015/03/16   \n",
       "\n",
       "   age  \n",
       "0   50  \n",
       "1   54  \n",
       "2   54  \n",
       "3   55  \n",
       "4   50  "
      ]
     },
     "execution_count": 62,
     "metadata": {},
     "output_type": "execute_result"
    }
   ],
   "source": [
    "applications_table.head(5)"
   ]
  },
  {
   "cell_type": "markdown",
   "metadata": {},
   "source": [
    "### Таблица по контрактам"
   ]
  },
  {
   "cell_type": "code",
   "execution_count": 63,
   "metadata": {},
   "outputs": [],
   "source": [
    "def get_features_for_contract(contracts):\n",
    "    column_names0 = []\n",
    "    for column in contracts[[0, 1]]:\n",
    "        for row in range(1, 8, 2):\n",
    "            column_names0.append(contracts[column][row])\n",
    "    indicies_of_nan_values = []\n",
    "    counter = 0\n",
    "    for i in column_names0:\n",
    "        try:\n",
    "            math.isnan(i)\n",
    "            indicies_of_nan_values.append(counter)\n",
    "            counter += 1\n",
    "        except:\n",
    "            counter += 1\n",
    "    column_names0 = [x for i, x in enumerate(column_names0) if i not in indicies_of_nan_values]\n",
    "    \n",
    "    values0 = []\n",
    "    for column in contracts[[0, 1]]:\n",
    "        for row in range(2, 9, 2):\n",
    "            values0.append(contracts[column][row]) \n",
    "    for i in values0:\n",
    "        try:\n",
    "            math.isnan(i)\n",
    "            indicies_of_nan_values.append(counter)\n",
    "            counter += 1\n",
    "        except:\n",
    "            counter += 1\n",
    "    values0 = [x for i, x in enumerate(values0) if i not in indicies_of_nan_values]\n",
    "    table = pd.DataFrame(columns = (column_names0))\n",
    "    table.loc[i] = values0\n",
    "    table['contract_date'] = str(contracts[2][0])\n",
    "    return table"
   ]
  },
  {
   "cell_type": "code",
   "execution_count": 64,
   "metadata": {
    "scrolled": true
   },
   "outputs": [],
   "source": [
    "contracts_table = pd.DataFrame()\n",
    "for i in contracts:\n",
    "        df = pd.read_excel(i, header = None, usecols = [0, 4, 5],  skiprows = 1)\n",
    "        one_row = get_features_for_contract(df)\n",
    "        contracts_table = contracts_table.append(one_row)"
   ]
  },
  {
   "cell_type": "code",
   "execution_count": 65,
   "metadata": {
    "scrolled": true
   },
   "outputs": [],
   "source": [
    "contracts_table = contracts_table.reset_index()"
   ]
  },
  {
   "cell_type": "code",
   "execution_count": 66,
   "metadata": {
    "scrolled": true
   },
   "outputs": [],
   "source": [
    "for i, value in enumerate(contracts_table['contract_date']):\n",
    "    if len(contracts_table['contract_date'][i]) < 11:\n",
    "        contracts_table['contract_date'].loc[i] = datetime.date.strftime(datetime.datetime.strptime(value, '%m.%d.%Y'), \"%Y/%m/%d\")\n",
    "    else:\n",
    "        contracts_table['contract_date'].loc[i] = datetime.date.strftime(datetime.datetime.strptime(value, '%Y-%d-%m %H:%M:%S'), \"%Y/%m/%d\")"
   ]
  },
  {
   "cell_type": "code",
   "execution_count": 67,
   "metadata": {
    "scrolled": true
   },
   "outputs": [],
   "source": [
    "contracts_table = contracts_table.drop(['index', 'Borrower'], axis = 1)"
   ]
  },
  {
   "cell_type": "code",
   "execution_count": 68,
   "metadata": {},
   "outputs": [],
   "source": [
    "contracts_table = contracts_table.replace(np.nan, 'NULL')\n",
    "contracts_table = contracts_table.replace('nan', 'NULL')"
   ]
  },
  {
   "cell_type": "code",
   "execution_count": 69,
   "metadata": {},
   "outputs": [
    {
     "data": {
      "text/html": [
       "<div>\n",
       "<style scoped>\n",
       "    .dataframe tbody tr th:only-of-type {\n",
       "        vertical-align: middle;\n",
       "    }\n",
       "\n",
       "    .dataframe tbody tr th {\n",
       "        vertical-align: top;\n",
       "    }\n",
       "\n",
       "    .dataframe thead th {\n",
       "        text-align: right;\n",
       "    }\n",
       "</style>\n",
       "<table border=\"1\" class=\"dataframe\">\n",
       "  <thead>\n",
       "    <tr style=\"text-align: right;\">\n",
       "      <th></th>\n",
       "      <th>Identity Number</th>\n",
       "      <th>Amount</th>\n",
       "      <th>Term (month)</th>\n",
       "      <th>Contract Number</th>\n",
       "      <th>Type</th>\n",
       "      <th>Annuity</th>\n",
       "      <th>contract_date</th>\n",
       "    </tr>\n",
       "  </thead>\n",
       "  <tbody>\n",
       "    <tr>\n",
       "      <th>0</th>\n",
       "      <td>100009</td>\n",
       "      <td>1560726.0</td>\n",
       "      <td>41</td>\n",
       "      <td>100022</td>\n",
       "      <td>Cash loans</td>\n",
       "      <td>41301.0</td>\n",
       "      <td>2015/11/02</td>\n",
       "    </tr>\n",
       "    <tr>\n",
       "      <th>1</th>\n",
       "      <td>100047</td>\n",
       "      <td>1193580.0</td>\n",
       "      <td>37</td>\n",
       "      <td>100052</td>\n",
       "      <td>Cash loans</td>\n",
       "      <td>35028.0</td>\n",
       "      <td>2016/08/30</td>\n",
       "    </tr>\n",
       "    <tr>\n",
       "      <th>2</th>\n",
       "      <td>100025</td>\n",
       "      <td>1132573.5</td>\n",
       "      <td>33</td>\n",
       "      <td>100068</td>\n",
       "      <td>Cash loans</td>\n",
       "      <td>37561.5</td>\n",
       "      <td>2018/12/30</td>\n",
       "    </tr>\n",
       "    <tr>\n",
       "      <th>3</th>\n",
       "      <td>100064</td>\n",
       "      <td>298728.0</td>\n",
       "      <td>22</td>\n",
       "      <td>100113</td>\n",
       "      <td>Cash loans</td>\n",
       "      <td>15381.0</td>\n",
       "      <td>2018/02/19</td>\n",
       "    </tr>\n",
       "    <tr>\n",
       "      <th>4</th>\n",
       "      <td>100023</td>\n",
       "      <td>544491.0</td>\n",
       "      <td>34</td>\n",
       "      <td>100122</td>\n",
       "      <td>Cash loans</td>\n",
       "      <td>17563.5</td>\n",
       "      <td>2016/07/31</td>\n",
       "    </tr>\n",
       "  </tbody>\n",
       "</table>\n",
       "</div>"
      ],
      "text/plain": [
       "   Identity Number     Amount  Term (month)  Contract Number        Type  \\\n",
       "0           100009  1560726.0            41           100022  Cash loans   \n",
       "1           100047  1193580.0            37           100052  Cash loans   \n",
       "2           100025  1132573.5            33           100068  Cash loans   \n",
       "3           100064   298728.0            22           100113  Cash loans   \n",
       "4           100023   544491.0            34           100122  Cash loans   \n",
       "\n",
       "   Annuity contract_date  \n",
       "0  41301.0    2015/11/02  \n",
       "1  35028.0    2016/08/30  \n",
       "2  37561.5    2018/12/30  \n",
       "3  15381.0    2018/02/19  \n",
       "4  17563.5    2016/07/31  "
      ]
     },
     "execution_count": 69,
     "metadata": {},
     "output_type": "execute_result"
    }
   ],
   "source": [
    "contracts_table.head(5)"
   ]
  },
  {
   "cell_type": "markdown",
   "metadata": {},
   "source": [
    "## Загрузка в SQL"
   ]
  },
  {
   "cell_type": "code",
   "execution_count": 70,
   "metadata": {},
   "outputs": [],
   "source": [
    "import mysql.connector\n",
    "from mysql.connector import errorcode\n",
    "\n",
    "\n",
    "try:\n",
    "  cnx = mysql.connector.connect(host = 'localhost', database = 'hw1_db', user = 'hw1_user')\n",
    "\n",
    "except mysql.connector.Error as err:\n",
    "  if err.errno == errorcode.ER_ACCESS_DENIED_ERROR:\n",
    "    print(\"Something is wrong with your user name or password\")\n",
    "  elif err.errno == errorcode.ER_BAD_DB_ERROR:\n",
    "    print(\"Database does not exist\")\n",
    "  else:\n",
    "    print(err)\n",
    "cursor = cnx.cursor()"
   ]
  },
  {
   "cell_type": "code",
   "execution_count": 71,
   "metadata": {},
   "outputs": [],
   "source": [
    "cnx = mysql.connector.connect(host = 'localhost', database = 'hw1_db', user = 'hw1_user')\n",
    "cursor = cnx.cursor()\n",
    "\n",
    "cursor.execute(\"\"\"CREATE TABLE IF NOT EXISTS applications1 \n",
    "(id INT, \n",
    "issue_date DATE, \n",
    "children INT, \n",
    "family INT, \n",
    "age INT, \n",
    "marital_status VARCHAR(50), \n",
    "gender BOOLEAN,\n",
    "employed_by VARCHAR(50), \n",
    "education VARCHAR(50),\n",
    "position VARCHAR(50), \n",
    "income FLOAT,\n",
    "income_type VARCHAR(50), \n",
    "housing VARCHAR(50),\n",
    "age_of_car INT,\n",
    "house_ownership VARCHAR(50),\n",
    "application_date DATE)\"\"\")\n",
    "\n",
    "cnx.commit()"
   ]
  },
  {
   "cell_type": "code",
   "execution_count": 72,
   "metadata": {},
   "outputs": [],
   "source": [
    "cnx = mysql.connector.connect(host = 'localhost', database = 'hw1_db', user = 'hw1_user')\n",
    "cursor = cnx.cursor()\n",
    "\n",
    "for i in range(0, len(applications_table['Identity Number'])):\n",
    "    cursor.execute(\"\"\" INSERT INTO applications1 \n",
    "    VALUES \n",
    "    (%d, '%s', %s, %s, %d, '%s', %s, '%s', '%s', '%s', %s, '%s', '%s', %s, '%s', '%s')\"\"\" % (\n",
    "        applications_table['Identity Number'][i],\n",
    "        applications_table['Issue Date'][i],\n",
    "        applications_table['Children'][i], \n",
    "        applications_table['Family'][i], \n",
    "        applications_table['age'][i], \n",
    "        applications_table['Marital Status'][i], \n",
    "        applications_table['Gender'][i], \n",
    "        applications_table['Employed By'][i], \n",
    "        applications_table['Education'][i],\n",
    "        applications_table['Position'][i], \n",
    "        applications_table['Income'][i], \n",
    "        applications_table['Income Type'][i], \n",
    "        applications_table['Housing'][i], \n",
    "        applications_table['Age of Car (if owned)'][i],\n",
    "        applications_table['House ownership'][i],\n",
    "        applications_table['application_date'][i]))\n",
    "\n",
    "cnx.commit()"
   ]
  },
  {
   "cell_type": "code",
   "execution_count": 73,
   "metadata": {},
   "outputs": [],
   "source": [
    "cnx = mysql.connector.connect(host = 'localhost', database = 'hw1_db', user = 'hw1_user')\n",
    "cursor = cnx.cursor()\n",
    "\n",
    "cursor.execute(\"\"\"CREATE TABLE IF NOT EXISTS contracts \n",
    "(id INT, \n",
    "amount INT, \n",
    "term_month INT, \n",
    "contract_number INT, \n",
    "contract_type VARCHAR(50), \n",
    "annuity INT, \n",
    "contract_date DATE)\"\"\")\n",
    "\n",
    "cnx.commit()"
   ]
  },
  {
   "cell_type": "code",
   "execution_count": 74,
   "metadata": {},
   "outputs": [],
   "source": [
    "cnx = mysql.connector.connect(host = 'localhost', database = 'hw1_db', user = 'hw1_user')\n",
    "cursor = cnx.cursor()\n",
    "\n",
    "for i in range(0, len(contracts_table['Identity Number'])):\n",
    "    cursor.execute(\"\"\" INSERT INTO contracts\n",
    "    VALUES \n",
    "    (%d, %d, %d, %d, '%s', %d, '%s')\"\"\" % (\n",
    "        contracts_table['Identity Number'][i],\n",
    "        contracts_table['Amount'][i],\n",
    "        contracts_table['Term (month)'][i], \n",
    "        contracts_table['Contract Number'][i], \n",
    "        contracts_table['Type'][i], \n",
    "        contracts_table['Annuity'][i], \n",
    "        contracts_table['contract_date'][i]))\n",
    "\n",
    "cnx.commit()"
   ]
  },
  {
   "cell_type": "markdown",
   "metadata": {},
   "source": [
    "# Пункт 2 (проверка корректности значений)"
   ]
  },
  {
   "cell_type": "code",
   "execution_count": 75,
   "metadata": {},
   "outputs": [
    {
     "name": "stdout",
     "output_type": "stream",
     "text": [
      "Не найдены значения с children < 0\n",
      "Не найдены значения с family < 0\n",
      "Не найдены значения с income < 0\n"
     ]
    }
   ],
   "source": [
    "cnx = mysql.connector.connect(host = 'localhost', database = 'hw1_db', user = 'hw1_user')\n",
    "cursor = cnx.cursor()\n",
    "\n",
    "cursor.execute(\"SELECT COUNT(*) FROM applications1 WHERE children < 0\")\n",
    "if cursor.fetchall()[0][0] > 0:\n",
    "    print(\"Найдены значения с children < 0\")\n",
    "    cursor.execute(\"UPDATE applications1 SET children=-1*(children) WHERE children < 0\")\n",
    "    print(\"Исправлены на положительные значения\")\n",
    "else:\n",
    "    print(\"Не найдены значения с children < 0\")\n",
    "\n",
    "\n",
    "    \n",
    "cursor.execute(\"SELECT COUNT(*) FROM applications1 WHERE family < 0\")\n",
    "if cursor.fetchall()[0][0] > 0:\n",
    "    print(\"Найдены значения с family < 0\")\n",
    "    cursor.execute(\"UPDATE applications1 SET family=-1*(family) WHERE family < 0\")\n",
    "    print(\"Исправлены на положительные значения\")\n",
    "else:\n",
    "    print(\"Не найдены значения с family < 0\")\n",
    "    \n",
    "    \n",
    "\n",
    "cursor.execute(\"SELECT COUNT(*) FROM applications1 WHERE income < 0\")\n",
    "if cursor.fetchall()[0][0] > 0:\n",
    "    print(\"Найдены значения с income < 0\")\n",
    "    cursor.execute(\"UPDATE applications1 SET income=-1*(income) WHERE income < 0\")\n",
    "    print(\"Исправлены на положительные значения\")\n",
    "else:\n",
    "    print(\"Не найдены значения с income < 0\")\n",
    "  \n",
    "\n",
    "\n",
    "    \n",
    "cnx.commit()"
   ]
  },
  {
   "cell_type": "code",
   "execution_count": 76,
   "metadata": {
    "scrolled": true
   },
   "outputs": [
    {
     "name": "stdout",
     "output_type": "stream",
     "text": [
      "Проверка на единство обозначений семейного положения\n",
      "(39, 'Married')\n",
      "(12, 'Single / not married')\n",
      "(8, 'Civil marriage')\n",
      "(3, 'Widow')\n",
      "(1, 'Separated')\n",
      "(1, 'NULL')\n",
      "____________________________________________________________________________________________________\n",
      "Проверка на единство обозначений занимаемой должности\n",
      "(7, 'Core staff')\n",
      "(17, 'Laborers')\n",
      "(2, 'Accountants')\n",
      "(6, 'Managers')\n",
      "(14, '<undefined>')\n",
      "(6, 'Drivers')\n",
      "(6, 'Sales staff')\n",
      "(1, 'Cleaning staff')\n",
      "(1, 'Cooking staff')\n",
      "(2, 'Private service staff')\n",
      "(1, 'Medicine staff')\n",
      "(1, 'Security staff')\n",
      "'<undefined>' заменено на NULL\n",
      "____________________________________________________________________________________________________\n",
      "Проверка на единство обозначений владения домом\n",
      "(58, 'House / apartment')\n",
      "(2, 'Rented apartment')\n",
      "(2, 'With parents')\n",
      "(1, 'Municipal apartment')\n",
      "(1, 'NULL')\n",
      "____________________________________________________________________________________________________\n"
     ]
    }
   ],
   "source": [
    "cnx = mysql.connector.connect(host = 'localhost', database = 'hw1_db', user = 'hw1_user')\n",
    "cursor = cnx.cursor()\n",
    "\n",
    "print(\"Проверка на единство обозначений семейного положения\")\n",
    "cursor.execute(\"SELECT COUNT(marital_status), marital_status FROM applications1 GROUP BY marital_status\")\n",
    "for i in cursor.fetchall():\n",
    "    print(i)   \n",
    "print(\"_\" * 100)\n",
    "\n",
    "print(\"Проверка на единство обозначений занимаемой должности\")\n",
    "cursor.execute(\"SELECT COUNT(position), position FROM applications1 GROUP BY position\")\n",
    "for i in cursor.fetchall():\n",
    "    print(i)  \n",
    "cursor.execute(\"\"\"UPDATE applications1 SET position = 'NULL' WHERE position = '<undefined>'\"\"\")\n",
    "print(\"'<undefined>' заменено на NULL\")\n",
    "print(\"_\" * 100)\n",
    "\n",
    "print(\"Проверка на единство обозначений владения домом\")\n",
    "cursor.execute(\"SELECT COUNT(housing), housing FROM applications1 GROUP BY housing\")\n",
    "for i in cursor.fetchall():\n",
    "    print(i)   \n",
    "print(\"_\" * 100)\n",
    "\n",
    "cnx.commit()"
   ]
  },
  {
   "cell_type": "code",
   "execution_count": 77,
   "metadata": {},
   "outputs": [
    {
     "name": "stdout",
     "output_type": "stream",
     "text": [
      "Ошибки в количестве членов семьи не найдены\n",
      "Ошибки в количестве членов семьи не найдены\n"
     ]
    }
   ],
   "source": [
    "cnx = mysql.connector.connect(host = 'localhost', database = 'hw1_db', user = 'hw1_user')\n",
    "cursor = cnx.cursor()\n",
    "\n",
    "\n",
    "cursor.execute(\"\"\"SELECT COUNT(*) FROM applications1 WHERE marital_status IN \n",
    "('Married', 'Civil marriage') AND children AND family <> (children + 2)\"\"\")\n",
    "if cursor.fetchall()[0][0] > 0:\n",
    "    print(\"Количество количество детей и родителей не совпадает с family\")\n",
    "    cursor.execute(\"\"\"UPDATE applications1 SET family = children + 2 WHERE marital_status IN ('Married', 'Civil marriage')\n",
    "    AND children AND family <> (children + 2)\"\"\")\n",
    "    print(\"Сумма людей в семье исправлена\")\n",
    "else:\n",
    "    print(\"Ошибки в количестве членов семьи не найдены\")\n",
    "    \n",
    "cursor.execute(\"\"\"SELECT COUNT(*) FROM applications1 WHERE marital_status IN \n",
    "('Single / not married', 'Widow', 'Separated') AND children AND family <> (children + 1)\"\"\")\n",
    "if cursor.fetchall()[0][0] > 0:\n",
    "    print(\"Количество количество детей и родителей не совпадает с family\")\n",
    "    cursor.execute(\"\"\"UPDATE applications1 SET family = children + 1 WHERE marital_status IN \n",
    "    ('Single / not married', 'Widow', 'Separated') AND children AND family <> (children + 1)\"\"\")\n",
    "    print(\"Сумма людей в семье исправлена\")\n",
    "else:\n",
    "    print(\"Ошибки в количестве членов семьи не найдены\")\n",
    "    \n",
    "cnx.commit()"
   ]
  },
  {
   "cell_type": "code",
   "execution_count": 78,
   "metadata": {},
   "outputs": [
    {
     "name": "stdout",
     "output_type": "stream",
     "text": [
      "Аннуитетные платежи рассчитаны верно\n"
     ]
    }
   ],
   "source": [
    "cnx = mysql.connector.connect(host = 'localhost', database = 'hw1_db', user = 'hw1_user')\n",
    "cursor = cnx.cursor()\n",
    "\n",
    "\n",
    "cursor.execute(\"SELECT COUNT(*) FROM contracts WHERE amount > annuity * term_month\")\n",
    "if cursor.fetchall()[0][0] > 0:\n",
    "    print(\"Кредит выдан с ошибкой: тело кредита большн чем суммарные ежемесячные платежи\")\n",
    "else:\n",
    "    print(\"Аннуитетные платежи рассчитаны верно\")"
   ]
  },
  {
   "cell_type": "code",
   "execution_count": 79,
   "metadata": {},
   "outputs": [
    {
     "name": "stdout",
     "output_type": "stream",
     "text": [
      "Проверка на единство обозначений типа контракта\n",
      "(52, 'Cash loans')\n",
      "(9, 'Revolving loans')\n",
      "____________________________________________________________________________________________________\n"
     ]
    }
   ],
   "source": [
    "cnx = mysql.connector.connect(host = 'localhost', database = 'hw1_db', user = 'hw1_user')\n",
    "cursor = cnx.cursor()\n",
    "\n",
    "print(\"Проверка на единство обозначений типа контракта\")\n",
    "cursor.execute(\"SELECT COUNT(contract_type), contract_type FROM contracts GROUP BY contract_type\")\n",
    "for i in cursor.fetchall():\n",
    "    print(i)   \n",
    "print(\"_\" * 100)\n",
    "\n",
    "cnx.commit()"
   ]
  },
  {
   "cell_type": "markdown",
   "metadata": {},
   "source": [
    "# Пункт 3 (Кодировка текстовых полей)"
   ]
  },
  {
   "cell_type": "code",
   "execution_count": 80,
   "metadata": {},
   "outputs": [],
   "source": [
    "cnx = mysql.connector.connect(host = 'localhost', database = 'hw1_db', user = 'hw1_user')\n",
    "cursor = cnx.cursor()\n",
    "\n",
    "applications_df = pd.read_sql_query(\"SELECT * FROM applications1\", cnx)\n",
    "contracts_df = pd.read_sql_query(\"SELECT * FROM contracts\", cnx)"
   ]
  },
  {
   "cell_type": "code",
   "execution_count": 81,
   "metadata": {},
   "outputs": [],
   "source": [
    "cnx.close()"
   ]
  },
  {
   "cell_type": "code",
   "execution_count": 82,
   "metadata": {},
   "outputs": [],
   "source": [
    "def encoding_columns_for_applications(column_name):\n",
    "    le = preprocessing.LabelEncoder()\n",
    "    le.fit(applications_df[column_name])\n",
    "    numeric_values = le.transform(applications_df[column_name])\n",
    "    \n",
    "    ids = applications_df.id\n",
    "    ids_and_values = list(zip(ids, numeric_values))\n",
    "    \n",
    "    cnx = mysql.connector.connect(host = 'localhost', database = 'hw1_db', user = 'hw1_user')\n",
    "    cursor = cnx.cursor()\n",
    "    \n",
    "    cursor.execute(\"\"\"ALTER TABLE applications1 ADD {0}_num int\"\"\".format(column_name))\n",
    "    \n",
    "    for i in ids_and_values:\n",
    "        cursor.execute(\"\"\"UPDATE applications1 SET {0}_num = %d WHERE id = %d \"\"\".format(column_name) %(i[1], i[0]))\n",
    "      \n",
    "    keys = le.inverse_transform(numeric_values)\n",
    "    keys_and_values = dict(zip(keys, numeric_values))   \n",
    "    \n",
    "    cursor.execute(\"\"\"CREATE TABLE IF NOT EXISTS dict_keys_applications\n",
    "    (characteristic VARCHAR(50),\n",
    "    {0}_num VARCHAR(50), \n",
    "    id_number INT)\"\"\".format(column_name))\n",
    "    \n",
    "    \n",
    "    for i in keys_and_values:\n",
    "        cursor.execute(\"\"\" INSERT INTO dict_keys_applications\n",
    "        VALUES \n",
    "        ('%s', '%s', %d)\"\"\".format(column_name) % (column_name, i, keys_and_values[i]))\n",
    "    \n",
    "    cnx.commit()"
   ]
  },
  {
   "cell_type": "code",
   "execution_count": 83,
   "metadata": {},
   "outputs": [],
   "source": [
    "encoding_columns = ['marital_status', 'employed_by', 'education', 'position', 'income_type', 'housing', 'house_ownership']"
   ]
  },
  {
   "cell_type": "code",
   "execution_count": 84,
   "metadata": {},
   "outputs": [],
   "source": [
    "for i in encoding_columns:\n",
    "    encoding_columns_for_applications(i)"
   ]
  },
  {
   "cell_type": "code",
   "execution_count": 85,
   "metadata": {},
   "outputs": [],
   "source": [
    "def encoding_columns_for_contracts(column_name):\n",
    "    le = preprocessing.LabelEncoder()\n",
    "    le.fit(contracts_df[column_name])\n",
    "    numeric_values = le.transform(contracts_df[column_name])\n",
    "    \n",
    "    ids = contracts_df.id\n",
    "    ids_and_values = list(zip(ids, numeric_values))\n",
    "    \n",
    "    cnx = mysql.connector.connect(host = 'localhost', database = 'hw1_db', user = 'hw1_user')\n",
    "    cursor = cnx.cursor()\n",
    "\n",
    "    cursor.execute(\"\"\"ALTER TABLE contracts ADD {0}_num int\"\"\".format(column_name))\n",
    "\n",
    "    for i in ids_and_values:\n",
    "        cursor.execute(\"\"\"UPDATE contracts SET {0}_num = %d WHERE id = %d \"\"\".format(column_name) %(i[1], i[0]))\n",
    "        \n",
    "    keys = le.inverse_transform(numeric_values)\n",
    "    keys_and_values = dict(zip(keys, numeric_values))   \n",
    "    \n",
    "    cursor.execute(\"\"\"CREATE TABLE IF NOT EXISTS dict_keys_contracts\n",
    "    ({0}_num VARCHAR(50), \n",
    "    id_number INT)\"\"\".format(column_name))\n",
    "\n",
    "    \n",
    "    for i in keys_and_values:\n",
    "        cursor.execute(\"\"\" INSERT INTO dict_keys_contracts\n",
    "        VALUES \n",
    "        ('%s', %d)\"\"\" % (i,\n",
    "                       keys_and_values[i]))\n",
    "    \n",
    "    cnx.commit()\n",
    "    cnx.close()"
   ]
  },
  {
   "cell_type": "code",
   "execution_count": null,
   "metadata": {},
   "outputs": [],
   "source": []
  },
  {
   "cell_type": "code",
   "execution_count": 86,
   "metadata": {},
   "outputs": [],
   "source": [
    "encoding_columns_for_contracts('contract_type')"
   ]
  },
  {
   "cell_type": "code",
   "execution_count": 87,
   "metadata": {},
   "outputs": [],
   "source": [
    "cnx.close()"
   ]
  },
  {
   "cell_type": "code",
   "execution_count": 88,
   "metadata": {},
   "outputs": [],
   "source": [
    "cnx = mysql.connector.connect(host = 'localhost', database = 'hw1_db', user = 'hw1_user')\n",
    "cursor = cnx.cursor()\n",
    "\n",
    "cursor.execute(\"ALTER TABLE contracts DROP contract_type\")\n",
    "cursor.execute(\"ALTER TABLE applications1 DROP marital_status\")\n",
    "cursor.execute(\"ALTER TABLE applications1 DROP employed_by\")\n",
    "cursor.execute(\"ALTER TABLE applications1 DROP education\")\n",
    "cursor.execute(\"ALTER TABLE applications1 DROP position\")\n",
    "cursor.execute(\"ALTER TABLE applications1 DROP income_type\")\n",
    "cursor.execute(\"ALTER TABLE applications1 DROP housing\")\n",
    "cursor.execute(\"ALTER TABLE applications1 DROP house_ownership\")\n",
    "\n",
    "cnx.commit()\n",
    "cnx.close()"
   ]
  },
  {
   "cell_type": "code",
   "execution_count": null,
   "metadata": {},
   "outputs": [],
   "source": []
  }
 ],
 "metadata": {
  "kernelspec": {
   "display_name": "Python 3",
   "language": "python",
   "name": "python3"
  },
  "language_info": {
   "codemirror_mode": {
    "name": "ipython",
    "version": 3
   },
   "file_extension": ".py",
   "mimetype": "text/x-python",
   "name": "python",
   "nbconvert_exporter": "python",
   "pygments_lexer": "ipython3",
   "version": "3.6.4"
  }
 },
 "nbformat": 4,
 "nbformat_minor": 2
}
